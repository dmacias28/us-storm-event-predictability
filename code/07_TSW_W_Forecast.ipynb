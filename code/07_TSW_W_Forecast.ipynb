{
 "cells": [
  {
   "cell_type": "markdown",
   "id": "2f017727-f3bb-456b-9174-031adffe2c18",
   "metadata": {
    "tags": []
   },
   "source": [
    "# 07: Thunderstorm Wind Average Magnitude Forecast | Region: U.S. West\n",
    "---"
   ]
  },
  {
   "cell_type": "markdown",
   "id": "3279770b-53d3-4cb5-b7ba-6c72997d7a16",
   "metadata": {},
   "source": [
    "## 1. Imports"
   ]
  },
  {
   "cell_type": "code",
   "execution_count": 27,
   "id": "833b4faf-041e-4ad2-a7e7-8ae05a4d5479",
   "metadata": {},
   "outputs": [],
   "source": [
    "import pandas as pd\n",
    "import numpy as np\n",
    "import matplotlib.pyplot as plt\n",
    "import seaborn as sns\n",
    "\n",
    "import statsmodels.api as sm\n",
    "\n",
    "from statsmodels.tsa.stattools import adfuller\n",
    "from statsmodels.tsa.seasonal import seasonal_decompose\n",
    "from statsmodels.graphics.tsaplots import plot_acf\n",
    "from statsmodels.graphics.tsaplots import plot_pacf\n",
    "from statsmodels.tsa.arima.model import ARIMA\n",
    "\n",
    "from sklearn.model_selection import train_test_split\n",
    "from sklearn.metrics import r2_score, mean_squared_error\n",
    "\n",
    "from datetime import datetime\n",
    "\n",
    "pd.set_option('display.max_columns', None)"
   ]
  },
  {
   "cell_type": "markdown",
   "id": "cd1263f8-9a42-46cb-bfbe-b8c12d4511a5",
   "metadata": {},
   "source": [
    "---\n",
    "## 2. Loading Data"
   ]
  },
  {
   "cell_type": "code",
   "execution_count": 28,
   "id": "1cccdc4b-51fe-4c64-96f3-8cf054def82b",
   "metadata": {
    "tags": []
   },
   "outputs": [
    {
     "name": "stderr",
     "output_type": "stream",
     "text": [
      "/Applications/anaconda3/lib/python3.9/site-packages/IPython/core/interactiveshell.py:3444: DtypeWarning: Columns (13) have mixed types.Specify dtype option on import or set low_memory=False.\n",
      "  exec(code_obj, self.user_global_ns, self.user_ns)\n"
     ]
    }
   ],
   "source": [
    "all_storms = pd.read_csv('../data/all_storms_dt_damage_clean.csv')"
   ]
  },
  {
   "cell_type": "markdown",
   "id": "abe8fb16-1706-4f55-a6e5-2f21544f05bb",
   "metadata": {},
   "source": [
    "---\n",
    "## 3. Organizing Data"
   ]
  },
  {
   "cell_type": "markdown",
   "id": "f9463554-726b-49c5-aa5d-6635b0b68168",
   "metadata": {},
   "source": [
    "### 3.1. Dropping Columns"
   ]
  },
  {
   "cell_type": "code",
   "execution_count": 29,
   "id": "82a4889c-5e46-45b6-ad92-5509072a5fe5",
   "metadata": {},
   "outputs": [],
   "source": [
    "all_storms = all_storms[['state', 'region', 'event_type', 'begin_date_time', 'magnitude']]"
   ]
  },
  {
   "cell_type": "code",
   "execution_count": 30,
   "id": "f3df468a-e07e-41bf-9f23-d30faddedba2",
   "metadata": {},
   "outputs": [
    {
     "data": {
      "text/html": [
       "<div>\n",
       "<style scoped>\n",
       "    .dataframe tbody tr th:only-of-type {\n",
       "        vertical-align: middle;\n",
       "    }\n",
       "\n",
       "    .dataframe tbody tr th {\n",
       "        vertical-align: top;\n",
       "    }\n",
       "\n",
       "    .dataframe thead th {\n",
       "        text-align: right;\n",
       "    }\n",
       "</style>\n",
       "<table border=\"1\" class=\"dataframe\">\n",
       "  <thead>\n",
       "    <tr style=\"text-align: right;\">\n",
       "      <th></th>\n",
       "      <th>state</th>\n",
       "      <th>region</th>\n",
       "      <th>event_type</th>\n",
       "      <th>begin_date_time</th>\n",
       "      <th>magnitude</th>\n",
       "    </tr>\n",
       "  </thead>\n",
       "  <tbody>\n",
       "    <tr>\n",
       "      <th>0</th>\n",
       "      <td>Oklahoma</td>\n",
       "      <td>South</td>\n",
       "      <td>Tornado</td>\n",
       "      <td>1950-04-28 14:45:00</td>\n",
       "      <td>0.0</td>\n",
       "    </tr>\n",
       "    <tr>\n",
       "      <th>1</th>\n",
       "      <td>Texas</td>\n",
       "      <td>South</td>\n",
       "      <td>Tornado</td>\n",
       "      <td>1950-06-19 20:40:00</td>\n",
       "      <td>0.0</td>\n",
       "    </tr>\n",
       "    <tr>\n",
       "      <th>2</th>\n",
       "      <td>Indiana</td>\n",
       "      <td>Midwest</td>\n",
       "      <td>Tornado</td>\n",
       "      <td>1950-07-19 14:30:00</td>\n",
       "      <td>0.0</td>\n",
       "    </tr>\n",
       "    <tr>\n",
       "      <th>3</th>\n",
       "      <td>Indiana</td>\n",
       "      <td>Midwest</td>\n",
       "      <td>Tornado</td>\n",
       "      <td>1950-07-19 17:45:00</td>\n",
       "      <td>0.0</td>\n",
       "    </tr>\n",
       "    <tr>\n",
       "      <th>4</th>\n",
       "      <td>Colorado</td>\n",
       "      <td>West</td>\n",
       "      <td>Tornado</td>\n",
       "      <td>1950-07-22 15:07:00</td>\n",
       "      <td>0.0</td>\n",
       "    </tr>\n",
       "    <tr>\n",
       "      <th>...</th>\n",
       "      <td>...</td>\n",
       "      <td>...</td>\n",
       "      <td>...</td>\n",
       "      <td>...</td>\n",
       "      <td>...</td>\n",
       "    </tr>\n",
       "    <tr>\n",
       "      <th>1740591</th>\n",
       "      <td>Arkansas</td>\n",
       "      <td>South</td>\n",
       "      <td>Winter Storm</td>\n",
       "      <td>2022-02-02 18:45:00</td>\n",
       "      <td>NaN</td>\n",
       "    </tr>\n",
       "    <tr>\n",
       "      <th>1740592</th>\n",
       "      <td>Arkansas</td>\n",
       "      <td>South</td>\n",
       "      <td>Winter Weather</td>\n",
       "      <td>2022-02-03 02:50:00</td>\n",
       "      <td>NaN</td>\n",
       "    </tr>\n",
       "    <tr>\n",
       "      <th>1740593</th>\n",
       "      <td>Arkansas</td>\n",
       "      <td>South</td>\n",
       "      <td>Winter Storm</td>\n",
       "      <td>2022-02-03 01:00:00</td>\n",
       "      <td>NaN</td>\n",
       "    </tr>\n",
       "    <tr>\n",
       "      <th>1740594</th>\n",
       "      <td>Massachusetts</td>\n",
       "      <td>Northeast</td>\n",
       "      <td>Heavy Snow</td>\n",
       "      <td>2022-02-25 00:00:00</td>\n",
       "      <td>NaN</td>\n",
       "    </tr>\n",
       "    <tr>\n",
       "      <th>1740595</th>\n",
       "      <td>Montana</td>\n",
       "      <td>West</td>\n",
       "      <td>Heavy Snow</td>\n",
       "      <td>2022-03-07 16:51:00</td>\n",
       "      <td>NaN</td>\n",
       "    </tr>\n",
       "  </tbody>\n",
       "</table>\n",
       "<p>1740596 rows × 5 columns</p>\n",
       "</div>"
      ],
      "text/plain": [
       "                 state     region      event_type      begin_date_time  \\\n",
       "0             Oklahoma      South         Tornado  1950-04-28 14:45:00   \n",
       "1                Texas      South         Tornado  1950-06-19 20:40:00   \n",
       "2              Indiana    Midwest         Tornado  1950-07-19 14:30:00   \n",
       "3              Indiana    Midwest         Tornado  1950-07-19 17:45:00   \n",
       "4             Colorado       West         Tornado  1950-07-22 15:07:00   \n",
       "...                ...        ...             ...                  ...   \n",
       "1740591       Arkansas      South    Winter Storm  2022-02-02 18:45:00   \n",
       "1740592       Arkansas      South  Winter Weather  2022-02-03 02:50:00   \n",
       "1740593       Arkansas      South    Winter Storm  2022-02-03 01:00:00   \n",
       "1740594  Massachusetts  Northeast      Heavy Snow  2022-02-25 00:00:00   \n",
       "1740595        Montana       West      Heavy Snow  2022-03-07 16:51:00   \n",
       "\n",
       "         magnitude  \n",
       "0              0.0  \n",
       "1              0.0  \n",
       "2              0.0  \n",
       "3              0.0  \n",
       "4              0.0  \n",
       "...            ...  \n",
       "1740591        NaN  \n",
       "1740592        NaN  \n",
       "1740593        NaN  \n",
       "1740594        NaN  \n",
       "1740595        NaN  \n",
       "\n",
       "[1740596 rows x 5 columns]"
      ]
     },
     "execution_count": 30,
     "metadata": {},
     "output_type": "execute_result"
    }
   ],
   "source": [
    "all_storms"
   ]
  },
  {
   "cell_type": "code",
   "execution_count": 31,
   "id": "a45ab41a-7dc1-4a30-806a-0fbc865651ff",
   "metadata": {},
   "outputs": [],
   "source": [
    "# Casting the BEGIN_DATE_TIME to a datetime dtype\n",
    "all_storms['begin_date_time'] = pd.to_datetime(all_storms['begin_date_time'])\n",
    "\n",
    "# Setting begin_date_time as the index\n",
    "all_storms.set_index('begin_date_time', inplace=True)\n",
    "\n",
    "# Sorting the index\n",
    "all_storms.sort_index(inplace=True)"
   ]
  },
  {
   "cell_type": "code",
   "execution_count": 32,
   "id": "6f69f845-2d15-42de-86f0-f81104d01644",
   "metadata": {},
   "outputs": [],
   "source": [
    "# Dropping all rows with a missing value in the magnitude column\n",
    "\n",
    "all_storms = all_storms.dropna(subset=['magnitude'])"
   ]
  },
  {
   "cell_type": "markdown",
   "id": "17bdac03-d81b-4569-94bf-9365411eb82d",
   "metadata": {
    "tags": []
   },
   "source": [
    "### 3.2. Subsetting to Thunderstorm Wind in the West (1996-2022)"
   ]
  },
  {
   "cell_type": "code",
   "execution_count": 33,
   "id": "c3a68a92-5dc6-46bb-a20f-501e0b28c86c",
   "metadata": {},
   "outputs": [],
   "source": [
    "ts_wind = all_storms[all_storms['event_type'] == 'Thunderstorm Wind']\n",
    "\n",
    "ts_wind = ts_wind[ts_wind['region'] == 'West']\n",
    "\n",
    "ts_wind = ts_wind[ts_wind.index > '1996']"
   ]
  },
  {
   "cell_type": "code",
   "execution_count": 34,
   "id": "a4ab649b-6728-4616-8dcf-e62be159ac3f",
   "metadata": {},
   "outputs": [
    {
     "data": {
      "text/html": [
       "<div>\n",
       "<style scoped>\n",
       "    .dataframe tbody tr th:only-of-type {\n",
       "        vertical-align: middle;\n",
       "    }\n",
       "\n",
       "    .dataframe tbody tr th {\n",
       "        vertical-align: top;\n",
       "    }\n",
       "\n",
       "    .dataframe thead th {\n",
       "        text-align: right;\n",
       "    }\n",
       "</style>\n",
       "<table border=\"1\" class=\"dataframe\">\n",
       "  <thead>\n",
       "    <tr style=\"text-align: right;\">\n",
       "      <th></th>\n",
       "      <th>state</th>\n",
       "      <th>region</th>\n",
       "      <th>event_type</th>\n",
       "      <th>magnitude</th>\n",
       "    </tr>\n",
       "    <tr>\n",
       "      <th>begin_date_time</th>\n",
       "      <th></th>\n",
       "      <th></th>\n",
       "      <th></th>\n",
       "      <th></th>\n",
       "    </tr>\n",
       "  </thead>\n",
       "  <tbody>\n",
       "    <tr>\n",
       "      <th>1996-01-15 03:00:00</th>\n",
       "      <td>Oregon</td>\n",
       "      <td>West</td>\n",
       "      <td>Thunderstorm Wind</td>\n",
       "      <td>53.0</td>\n",
       "    </tr>\n",
       "    <tr>\n",
       "      <th>1996-01-15 03:00:00</th>\n",
       "      <td>Oregon</td>\n",
       "      <td>West</td>\n",
       "      <td>Thunderstorm Wind</td>\n",
       "      <td>74.0</td>\n",
       "    </tr>\n",
       "    <tr>\n",
       "      <th>1996-01-15 03:00:00</th>\n",
       "      <td>Oregon</td>\n",
       "      <td>West</td>\n",
       "      <td>Thunderstorm Wind</td>\n",
       "      <td>35.0</td>\n",
       "    </tr>\n",
       "    <tr>\n",
       "      <th>1996-01-15 03:00:00</th>\n",
       "      <td>Oregon</td>\n",
       "      <td>West</td>\n",
       "      <td>Thunderstorm Wind</td>\n",
       "      <td>40.0</td>\n",
       "    </tr>\n",
       "    <tr>\n",
       "      <th>1996-01-22 16:30:00</th>\n",
       "      <td>California</td>\n",
       "      <td>West</td>\n",
       "      <td>Thunderstorm Wind</td>\n",
       "      <td>61.0</td>\n",
       "    </tr>\n",
       "    <tr>\n",
       "      <th>...</th>\n",
       "      <td>...</td>\n",
       "      <td>...</td>\n",
       "      <td>...</td>\n",
       "      <td>...</td>\n",
       "    </tr>\n",
       "    <tr>\n",
       "      <th>2022-02-19 20:53:00</th>\n",
       "      <td>Montana</td>\n",
       "      <td>West</td>\n",
       "      <td>Thunderstorm Wind</td>\n",
       "      <td>50.0</td>\n",
       "    </tr>\n",
       "    <tr>\n",
       "      <th>2022-02-19 22:32:00</th>\n",
       "      <td>Montana</td>\n",
       "      <td>West</td>\n",
       "      <td>Thunderstorm Wind</td>\n",
       "      <td>52.0</td>\n",
       "    </tr>\n",
       "    <tr>\n",
       "      <th>2022-02-19 22:45:00</th>\n",
       "      <td>Montana</td>\n",
       "      <td>West</td>\n",
       "      <td>Thunderstorm Wind</td>\n",
       "      <td>52.0</td>\n",
       "    </tr>\n",
       "    <tr>\n",
       "      <th>2022-02-19 22:53:00</th>\n",
       "      <td>Montana</td>\n",
       "      <td>West</td>\n",
       "      <td>Thunderstorm Wind</td>\n",
       "      <td>50.0</td>\n",
       "    </tr>\n",
       "    <tr>\n",
       "      <th>2022-03-04 14:08:00</th>\n",
       "      <td>Colorado</td>\n",
       "      <td>West</td>\n",
       "      <td>Thunderstorm Wind</td>\n",
       "      <td>50.0</td>\n",
       "    </tr>\n",
       "  </tbody>\n",
       "</table>\n",
       "<p>17184 rows × 4 columns</p>\n",
       "</div>"
      ],
      "text/plain": [
       "                          state region         event_type  magnitude\n",
       "begin_date_time                                                     \n",
       "1996-01-15 03:00:00      Oregon   West  Thunderstorm Wind       53.0\n",
       "1996-01-15 03:00:00      Oregon   West  Thunderstorm Wind       74.0\n",
       "1996-01-15 03:00:00      Oregon   West  Thunderstorm Wind       35.0\n",
       "1996-01-15 03:00:00      Oregon   West  Thunderstorm Wind       40.0\n",
       "1996-01-22 16:30:00  California   West  Thunderstorm Wind       61.0\n",
       "...                         ...    ...                ...        ...\n",
       "2022-02-19 20:53:00     Montana   West  Thunderstorm Wind       50.0\n",
       "2022-02-19 22:32:00     Montana   West  Thunderstorm Wind       52.0\n",
       "2022-02-19 22:45:00     Montana   West  Thunderstorm Wind       52.0\n",
       "2022-02-19 22:53:00     Montana   West  Thunderstorm Wind       50.0\n",
       "2022-03-04 14:08:00    Colorado   West  Thunderstorm Wind       50.0\n",
       "\n",
       "[17184 rows x 4 columns]"
      ]
     },
     "execution_count": 34,
     "metadata": {},
     "output_type": "execute_result"
    }
   ],
   "source": [
    "ts_wind"
   ]
  },
  {
   "cell_type": "markdown",
   "id": "ab013d58-fbdf-4cfa-951f-5e909b7eed2c",
   "metadata": {},
   "source": [
    "### 3.3. Resampling to Quarterly Averages"
   ]
  },
  {
   "cell_type": "code",
   "execution_count": 35,
   "id": "3cc14f16-9050-4273-95f4-bbeb9761b7b6",
   "metadata": {},
   "outputs": [],
   "source": [
    "# Helper plotting function\n",
    "\n",
    "def plot_series(df, cols=None, title='Title', xlab=None, ylab=None, steps=1):\n",
    "   \n",
    "    plt.figure(figsize=(10,6))\n",
    "    \n",
    "    for col in cols:\n",
    "        plt.plot(df[col])\n",
    "\n",
    "    plt.title(title, fontsize=14)\n",
    "    plt.xlabel(xlab, fontsize=12)\n",
    "    plt.ylabel(ylab, fontsize=12)\n",
    "    \n",
    "    plt.yticks(fontsize=12)\n",
    "    plt.xticks(fontsize=12);"
   ]
  },
  {
   "cell_type": "code",
   "execution_count": 36,
   "id": "35723251-9b8f-4e6c-b91a-d6873981373f",
   "metadata": {},
   "outputs": [],
   "source": [
    "# Resampling to quarterly averages\n",
    "ts_wind = ts_wind.resample('Q').mean()\n",
    "\n",
    "# Renaming the column to 'avg_mag'\n",
    "ts_wind = ts_wind.rename(columns={'magnitude': 'avg_mag'})"
   ]
  },
  {
   "cell_type": "code",
   "execution_count": 37,
   "id": "871ecfab-e6b9-4331-8b50-d82888da2fd5",
   "metadata": {},
   "outputs": [
    {
     "data": {
      "text/plain": [
       "avg_mag    0\n",
       "dtype: int64"
      ]
     },
     "execution_count": 37,
     "metadata": {},
     "output_type": "execute_result"
    }
   ],
   "source": [
    "ts_wind.isnull().sum()"
   ]
  },
  {
   "cell_type": "code",
   "execution_count": 38,
   "id": "21797847-08aa-4340-87d6-52abb1f5fc48",
   "metadata": {},
   "outputs": [
    {
     "data": {
      "text/html": [
       "<div>\n",
       "<style scoped>\n",
       "    .dataframe tbody tr th:only-of-type {\n",
       "        vertical-align: middle;\n",
       "    }\n",
       "\n",
       "    .dataframe tbody tr th {\n",
       "        vertical-align: top;\n",
       "    }\n",
       "\n",
       "    .dataframe thead th {\n",
       "        text-align: right;\n",
       "    }\n",
       "</style>\n",
       "<table border=\"1\" class=\"dataframe\">\n",
       "  <thead>\n",
       "    <tr style=\"text-align: right;\">\n",
       "      <th></th>\n",
       "      <th>avg_mag</th>\n",
       "    </tr>\n",
       "    <tr>\n",
       "      <th>begin_date_time</th>\n",
       "      <th></th>\n",
       "    </tr>\n",
       "  </thead>\n",
       "  <tbody>\n",
       "    <tr>\n",
       "      <th>1996-03-31</th>\n",
       "      <td>53.125000</td>\n",
       "    </tr>\n",
       "    <tr>\n",
       "      <th>1996-06-30</th>\n",
       "      <td>56.605000</td>\n",
       "    </tr>\n",
       "    <tr>\n",
       "      <th>1996-09-30</th>\n",
       "      <td>56.535055</td>\n",
       "    </tr>\n",
       "    <tr>\n",
       "      <th>1996-12-31</th>\n",
       "      <td>67.400000</td>\n",
       "    </tr>\n",
       "    <tr>\n",
       "      <th>1997-03-31</th>\n",
       "      <td>52.000000</td>\n",
       "    </tr>\n",
       "    <tr>\n",
       "      <th>...</th>\n",
       "      <td>...</td>\n",
       "    </tr>\n",
       "    <tr>\n",
       "      <th>2021-03-31</th>\n",
       "      <td>56.115385</td>\n",
       "    </tr>\n",
       "    <tr>\n",
       "      <th>2021-06-30</th>\n",
       "      <td>56.585366</td>\n",
       "    </tr>\n",
       "    <tr>\n",
       "      <th>2021-09-30</th>\n",
       "      <td>54.844633</td>\n",
       "    </tr>\n",
       "    <tr>\n",
       "      <th>2021-12-31</th>\n",
       "      <td>54.812500</td>\n",
       "    </tr>\n",
       "    <tr>\n",
       "      <th>2022-03-31</th>\n",
       "      <td>51.571429</td>\n",
       "    </tr>\n",
       "  </tbody>\n",
       "</table>\n",
       "<p>105 rows × 1 columns</p>\n",
       "</div>"
      ],
      "text/plain": [
       "                   avg_mag\n",
       "begin_date_time           \n",
       "1996-03-31       53.125000\n",
       "1996-06-30       56.605000\n",
       "1996-09-30       56.535055\n",
       "1996-12-31       67.400000\n",
       "1997-03-31       52.000000\n",
       "...                    ...\n",
       "2021-03-31       56.115385\n",
       "2021-06-30       56.585366\n",
       "2021-09-30       54.844633\n",
       "2021-12-31       54.812500\n",
       "2022-03-31       51.571429\n",
       "\n",
       "[105 rows x 1 columns]"
      ]
     },
     "execution_count": 38,
     "metadata": {},
     "output_type": "execute_result"
    }
   ],
   "source": [
    "ts_wind"
   ]
  },
  {
   "cell_type": "code",
   "execution_count": 39,
   "id": "3b6f617a-eba8-4d35-9b4e-a72035621697",
   "metadata": {},
   "outputs": [
    {
     "data": {
      "image/png": "[encoded data removed]",
      "text/plain": [
       "<Figure size 720x432 with 1 Axes>"
      ]
     },
     "metadata": {
      "needs_background": "light"
     },
     "output_type": "display_data"
    }
   ],
   "source": [
    "# Quarterly Thunderstorm Wind Average Magnitudes (1996-2022) - Region: U.S. West\n",
    "\n",
    "plot_series(ts_wind, ['avg_mag'], title='Quarterly Thunderstorm Wind Average Magnitudes (1996-2022) \\n Region: U.S. West', xlab='Year', ylab='Magnitude (knots)', steps=4)"
   ]
  },
  {
   "cell_type": "markdown",
   "id": "0f2ae505-9d79-46c9-879e-2732b2cc664e",
   "metadata": {},
   "source": [
    "---\n",
    "## 4. Trends"
   ]
  },
  {
   "cell_type": "markdown",
   "id": "ad96f8a6-2796-4516-a51b-a4dcd02f22e0",
   "metadata": {
    "tags": []
   },
   "source": [
    "### 4.1. Seasonality"
   ]
  },
  {
   "cell_type": "code",
   "execution_count": 40,
   "id": "e70ec785-4b6f-4d21-bc4d-dede581b1d90",
   "metadata": {},
   "outputs": [
    {
     "data": {
      "image/png": "[encoded data removed]",
      "text/plain": [
       "<Figure size 864x576 with 4 Axes>"
      ]
     },
     "metadata": {
      "needs_background": "light"
     },
     "output_type": "display_data"
    }
   ],
   "source": [
    "decomp = seasonal_decompose(ts_wind['avg_mag'])\n",
    "\n",
    "decomp.plot();\n",
    "fig = plt.gcf()\n",
    "fig.set_size_inches(12, 8)"
   ]
  },
  {
   "cell_type": "markdown",
   "id": "f1f3ed45-29e9-4dc5-be5e-9aa93b7cb1d5",
   "metadata": {},
   "source": [
    "In the trend component, we see that the averages fluctuate quite a bit, but in general, we see a decrease over time.\n",
    "\n",
    "In the seasonal component, we see that there appears to be some seasonality detected. But this seasonal view can sometimes be misleading, so I'll need to run some additional diagnostics.\n",
    "\n",
    "In the resid component, we see that there's quite a bit of variability that can not be explained by the model."
   ]
  },
  {
   "cell_type": "markdown",
   "id": "fa1b6454-5efd-4ee9-8396-25df91c91c28",
   "metadata": {},
   "source": [
    "### 4.2. Autocorrelation"
   ]
  },
  {
   "cell_type": "code",
   "execution_count": 41,
   "id": "04ee45e5-b8ec-4bc0-ac36-77c1699a6b43",
   "metadata": {},
   "outputs": [
    {
     "data": {
      "image/png": "[encoded data removed]",
      "text/plain": [
       "<Figure size 432x288 with 1 Axes>"
      ]
     },
     "metadata": {
      "needs_background": "light"
     },
     "output_type": "display_data"
    }
   ],
   "source": [
    "plot_acf(ts_wind['avg_mag']);"
   ]
  },
  {
   "cell_type": "markdown",
   "id": "0e5f0563-3ced-4d2b-a75b-dc8bf0230691",
   "metadata": {},
   "source": [
    "For trend, the lack of large and positive values in the earlier lags indicate and confirm that there is no real trend in the data.\n",
    "\n",
    "For seasonality, the fluctuations do not occur with a fixed and known frequency and therefore, indicates that there is no seasonality in the data.\n",
    "\n",
    "For lags, it seems that not using any will lead to best results, as no lags extend beyond the blue region."
   ]
  },
  {
   "cell_type": "markdown",
   "id": "ec0e9e49-b096-4af1-ba45-1ce7aaf81418",
   "metadata": {},
   "source": [
    "### 4.3. Partial Autocorrelation"
   ]
  },
  {
   "cell_type": "code",
   "execution_count": 42,
   "id": "11f20e08-0fed-45d1-9d7e-99cc871fd49c",
   "metadata": {},
   "outputs": [
    {
     "data": {
      "image/png": "[encoded data removed]",
      "text/plain": [
       "<Figure size 432x288 with 1 Axes>"
      ]
     },
     "metadata": {
      "needs_background": "light"
     },
     "output_type": "display_data"
    }
   ],
   "source": [
    "plot_pacf(ts_wind['avg_mag']);"
   ]
  },
  {
   "cell_type": "markdown",
   "id": "cb82039f-7f2d-4d92-acce-70d16985e4e6",
   "metadata": {},
   "source": [
    "For seasonality, as seen in the autocorrelation, the fluctuations do not occur with a fixed and known frequency and therefore, confirms that there is no seasonality present.\n",
    "\n",
    "For lags, it still seems that not using any will lead to best results, as no lags extend beyond the blue region."
   ]
  },
  {
   "cell_type": "markdown",
   "id": "423949a0-96a2-4c7c-9ffc-1e225c6b20d4",
   "metadata": {},
   "source": [
    "### 4.4. Stationarity"
   ]
  },
  {
   "cell_type": "code",
   "execution_count": 43,
   "id": "890653ec-7d5f-48e1-982d-8234e17a4677",
   "metadata": {},
   "outputs": [
    {
     "data": {
      "text/plain": [
       "(-3.522366071080831,\n",
       " 0.007430925605259347,\n",
       " 3,\n",
       " 101,\n",
       " {'1%': -3.4968181663902103,\n",
       "  '5%': -2.8906107514600103,\n",
       "  '10%': -2.5822770483285953},\n",
       " 424.55652743086046)"
      ]
     },
     "execution_count": 43,
     "metadata": {},
     "output_type": "execute_result"
    }
   ],
   "source": [
    "# Dickey-Fuller Stationarity Test\n",
    "\n",
    "adfuller(ts_wind['avg_mag'])"
   ]
  },
  {
   "cell_type": "markdown",
   "id": "1be26863-fca0-435b-9873-f739ef16e088",
   "metadata": {},
   "source": [
    "The first 2 statistics of the test result tell me that the data is indeed already stationary and that no differencing is required. The first statistic is the 'test statistic'. This value needs to be less than the critical values, which are the 1%, 5% and 10% values, and it is. The second statistic is the p-value, which needs to be less than the alpha of 0.05, and it is."
   ]
  },
  {
   "cell_type": "markdown",
   "id": "b62c8633-b142-4772-b85b-1c71193e8c6c",
   "metadata": {},
   "source": [
    "---\n",
    "## 5. ARIMA Time Series Modeling"
   ]
  },
  {
   "cell_type": "markdown",
   "id": "3e5d5372-683b-48b1-a11f-99fdcb8d6ac8",
   "metadata": {},
   "source": [
    "### 5.1. Train-Test Split\n",
    "\n",
    "Considering the few observations that I have to work with, I'll be using 90% of the data to train on."
   ]
  },
  {
   "cell_type": "code",
   "execution_count": 44,
   "id": "20eb41c7-e1ab-4de1-a6ca-9b69789b1ccc",
   "metadata": {},
   "outputs": [],
   "source": [
    "y_train, y_test = train_test_split(ts_wind['avg_mag'], test_size=0.1, shuffle=False)"
   ]
  },
  {
   "cell_type": "markdown",
   "id": "55afadaf-0062-402d-96ca-8ae11b65e571",
   "metadata": {},
   "source": [
    "### 5.2. GridSearch for best AIC, p & q"
   ]
  },
  {
   "cell_type": "code",
   "execution_count": 45,
   "id": "72cbe73c-be44-4cab-b937-7b80fcbb4074",
   "metadata": {},
   "outputs": [
    {
     "name": "stdout",
     "output_type": "stream",
     "text": [
      "The AIC for ARIMA(0,0,0) is: 456.3183138280783\n",
      "The AIC for ARIMA(0,0,1) is: 458.0827075265147\n",
      "The AIC for ARIMA(0,0,2) is: 459.5682899941724\n",
      "The AIC for ARIMA(0,0,3) is: 459.2014171683548\n",
      "The AIC for ARIMA(0,0,4) is: 454.4662783511362\n",
      "The AIC for ARIMA(1,0,0) is: 458.0400563502654\n",
      "The AIC for ARIMA(1,0,1) is: 458.54971509864635\n",
      "The AIC for ARIMA(1,0,2) is: 459.0276831921906\n"
     ]
    },
    {
     "name": "stderr",
     "output_type": "stream",
     "text": [
      "/Applications/anaconda3/lib/python3.9/site-packages/statsmodels/tsa/statespace/sarimax.py:966: UserWarning: Non-stationary starting autoregressive parameters found. Using zeros as starting parameters.\n",
      "  warn('Non-stationary starting autoregressive parameters'\n",
      "/Applications/anaconda3/lib/python3.9/site-packages/statsmodels/tsa/statespace/sarimax.py:978: UserWarning: Non-invertible starting MA parameters found. Using zeros as starting parameters.\n",
      "  warn('Non-invertible starting MA parameters found.'\n"
     ]
    },
    {
     "name": "stdout",
     "output_type": "stream",
     "text": [
      "The AIC for ARIMA(1,0,3) is: 458.3812153522639\n",
      "The AIC for ARIMA(1,0,4) is: 456.21018567539505\n",
      "The AIC for ARIMA(2,0,0) is: 459.1916187420491\n",
      "The AIC for ARIMA(2,0,1) is: 459.6411174928473\n",
      "The AIC for ARIMA(2,0,2) is: 451.26982075438485\n",
      "The AIC for ARIMA(2,0,3) is: 452.61384240071754\n",
      "The AIC for ARIMA(2,0,4) is: 457.8985501154716\n",
      "The AIC for ARIMA(3,0,0) is: 459.2925886984863\n",
      "The AIC for ARIMA(3,0,1) is: 460.4093738246296\n",
      "The AIC for ARIMA(3,0,2) is: 452.5899355627456\n",
      "The AIC for ARIMA(3,0,3) is: 455.2500769284428\n",
      "The AIC for ARIMA(3,0,4) is: 455.4036628054946\n",
      "The AIC for ARIMA(4,0,0) is: 457.8773158875257\n",
      "The AIC for ARIMA(4,0,1) is: 458.3482937712784\n",
      "The AIC for ARIMA(4,0,2) is: 459.50735512793517\n",
      "The AIC for ARIMA(4,0,3) is: 461.5000485362322\n",
      "The AIC for ARIMA(4,0,4) is: 453.48313671286405\n",
      "\n",
      "\n",
      "MODEL FINISHED!\n",
      "Our model that minimizes AIC on the training data is the ARIMA(2,0,2).\n",
      "This model has an AIC of 451.26982075438485.\n"
     ]
    }
   ],
   "source": [
    "best_aic = 1_000_000_000\n",
    "best_p = 0\n",
    "best_q = 0\n",
    "\n",
    "for p in range(5):\n",
    "    for q in range(5):\n",
    "\n",
    "        try:\n",
    "            \n",
    "            arima = ARIMA(endog = y_train.astype(float).dropna(),\n",
    "                         order=(p, 0, q))\n",
    "            \n",
    "            model = arima.fit(method_kwargs={\"warn_convergence\": False})\n",
    "\n",
    "            print(f'The AIC for ARIMA({p},0,{q}) is: {model.aic}')\n",
    "\n",
    "            if model.aic < best_aic:\n",
    "                best_aic = model.aic\n",
    "                best_p = p\n",
    "                best_q = q\n",
    "\n",
    "        except Exception as e:\n",
    "            print(e)\n",
    "print()\n",
    "print()\n",
    "print('MODEL FINISHED!')\n",
    "print(f'Our model that minimizes AIC on the training data is the ARIMA({best_p},0,{best_q}).')\n",
    "print(f'This model has an AIC of {best_aic}.')"
   ]
  },
  {
   "cell_type": "markdown",
   "id": "24d1bbe1-2745-42a9-90ed-01a1ae47ef68",
   "metadata": {},
   "source": [
    "The p, d, q combination that returned the lowest AIC was when p=2, d=0, and q=2. This means that the model will perform best with the use of 2 lags, no differencing and a moving average window of 2. This combination, referred to as an order,  will be referenced as (2,0,2) and will be used as the ARIMA model order parameter."
   ]
  },
  {
   "cell_type": "markdown",
   "id": "65cb0ec5-f195-426a-9473-20ba100f3091",
   "metadata": {},
   "source": [
    "### 5.3. Instantiate & Fit"
   ]
  },
  {
   "cell_type": "code",
   "execution_count": 46,
   "id": "f24be23c-5ecf-4dc2-be7b-33e4b8f77dc0",
   "metadata": {},
   "outputs": [
    {
     "name": "stderr",
     "output_type": "stream",
     "text": [
      "/Applications/anaconda3/lib/python3.9/site-packages/statsmodels/base/model.py:566: ConvergenceWarning: Maximum Likelihood optimization failed to converge. Check mle_retvals\n",
      "  warnings.warn(\"Maximum Likelihood optimization failed to \"\n"
     ]
    }
   ],
   "source": [
    "model = ARIMA(endog=y_train.astype(float).dropna(), order = (2,0,2))\n",
    "\n",
    "arima = model.fit()"
   ]
  },
  {
   "cell_type": "markdown",
   "id": "9aaf67ba-8c74-4483-95de-0a793040236b",
   "metadata": {},
   "source": [
    "### 5.4. Test Forecast"
   ]
  },
  {
   "cell_type": "code",
   "execution_count": 47,
   "id": "29dad73b-f84c-4254-a7ef-43a5291c43ee",
   "metadata": {},
   "outputs": [
    {
     "data": {
      "text/plain": [
       "11"
      ]
     },
     "execution_count": 47,
     "metadata": {},
     "output_type": "execute_result"
    }
   ],
   "source": [
    "# Checking how many quarters were considered as test data with a test size of 10%\n",
    "\n",
    "len(y_test)"
   ]
  },
  {
   "cell_type": "code",
   "execution_count": 48,
   "id": "433287ac-0452-47df-9907-07d433eebb71",
   "metadata": {},
   "outputs": [
    {
     "data": {
      "text/plain": [
       "2019-09-30    55.275881\n",
       "2019-12-31    54.659063\n",
       "2020-03-31    54.852316\n",
       "2020-06-30    55.511624\n",
       "2020-09-30    56.197458\n",
       "2020-12-31    56.599032\n",
       "2021-03-31    56.630161\n",
       "2021-06-30    56.395487\n",
       "2021-09-30    56.083381\n",
       "2021-12-31    55.856158\n",
       "2022-03-31    55.786853\n",
       "Freq: Q-DEC, Name: predicted_mean, dtype: float64"
      ]
     },
     "execution_count": 48,
     "metadata": {},
     "output_type": "execute_result"
    }
   ],
   "source": [
    "# Generating the forecast for those 11 quarters\n",
    "\n",
    "forecast = arima.forecast(steps=11)\n",
    "forecast"
   ]
  },
  {
   "cell_type": "code",
   "execution_count": 49,
   "id": "7bad5344-7b0b-40be-a03e-abc2de812c1d",
   "metadata": {},
   "outputs": [
    {
     "data": {
      "image/png": "[encoded data removed]",
      "text/plain": [
       "<Figure size 720x432 with 1 Axes>"
      ]
     },
     "metadata": {
      "needs_background": "light"
     },
     "output_type": "display_data"
    }
   ],
   "source": [
    "# Thunderstorm Wind Average Magnitude Forecast with ARIMA(2,0,2) - Forecast Period: Q3-2019 to Q1-2022 | Region: U.S. West\n",
    "\n",
    "plt.figure(figsize=(10,6))\n",
    "plt.plot(y_train.index, y_train, color='blue', label='Training')\n",
    "plt.plot(y_test.index, y_test, color='orange', label='Test')\n",
    "plt.plot(y_test.index, forecast, color='green', label='Forecasted', linestyle='--')\n",
    "\n",
    "plt.title(label = 'Thunderstorm Wind Average Magnitude Forecast with ARIMA(2,0,2) \\n Forecast Period: Q3-2019 to Q1-2022 | Region: U.S. West', fontsize=14)\n",
    "plt.xlabel('Year', fontsize=12)\n",
    "plt.ylabel('Magnitude (knots)', fontsize=12)\n",
    "\n",
    "plt.legend();"
   ]
  },
  {
   "cell_type": "markdown",
   "id": "b013332a-48de-468f-8c0c-324785b0d735",
   "metadata": {},
   "source": [
    "Visually, the model does not seem to have forecasted very well. It tries to follow some of the fluctuations, but sticks around the mean and does not catch the dips."
   ]
  },
  {
   "cell_type": "markdown",
   "id": "78c8fb62-0a83-4201-ba8a-d4c88e49bae4",
   "metadata": {},
   "source": [
    "### 5.5. Test Evaluation"
   ]
  },
  {
   "cell_type": "code",
   "execution_count": 53,
   "id": "c01b4558-28f2-46b1-9ca5-96f2a05d7b7e",
   "metadata": {},
   "outputs": [
    {
     "name": "stdout",
     "output_type": "stream",
     "text": [
      "R2: -0.3040384983108173\n"
     ]
    }
   ],
   "source": [
    "r2 = r2_score(y_test, forecast)\n",
    "print('R2: ' + str(r2))"
   ]
  },
  {
   "cell_type": "markdown",
   "id": "f959adb9-c7a9-432b-9253-2a3a152a956d",
   "metadata": {},
   "source": [
    "The model does not do well at all in explaining the variability of the data, and explains why the model stuck close to predicting the mean."
   ]
  },
  {
   "cell_type": "code",
   "execution_count": 51,
   "id": "ad949402-0604-41e9-b001-9b44cb2f5950",
   "metadata": {},
   "outputs": [
    {
     "name": "stdout",
     "output_type": "stream",
     "text": [
      "RMSE: 2.155458672505572\n"
     ]
    }
   ],
   "source": [
    "# Root mean squared error\n",
    "\n",
    "rmse = mean_squared_error(y_test, forecast, squared=False)\n",
    "print('RMSE: ' + str(rmse))"
   ]
  },
  {
   "cell_type": "code",
   "execution_count": 52,
   "id": "7ec4f7c6-0945-4147-8eb4-f4be37dc5e20",
   "metadata": {},
   "outputs": [
    {
     "data": {
      "text/html": [
       "<div>\n",
       "<style scoped>\n",
       "    .dataframe tbody tr th:only-of-type {\n",
       "        vertical-align: middle;\n",
       "    }\n",
       "\n",
       "    .dataframe tbody tr th {\n",
       "        vertical-align: top;\n",
       "    }\n",
       "\n",
       "    .dataframe thead th {\n",
       "        text-align: right;\n",
       "    }\n",
       "</style>\n",
       "<table border=\"1\" class=\"dataframe\">\n",
       "  <thead>\n",
       "    <tr style=\"text-align: right;\">\n",
       "      <th></th>\n",
       "      <th>avg_mag</th>\n",
       "    </tr>\n",
       "  </thead>\n",
       "  <tbody>\n",
       "    <tr>\n",
       "      <th>count</th>\n",
       "      <td>105.000000</td>\n",
       "    </tr>\n",
       "    <tr>\n",
       "      <th>mean</th>\n",
       "      <td>55.953798</td>\n",
       "    </tr>\n",
       "    <tr>\n",
       "      <th>std</th>\n",
       "      <td>2.656428</td>\n",
       "    </tr>\n",
       "    <tr>\n",
       "      <th>min</th>\n",
       "      <td>48.666667</td>\n",
       "    </tr>\n",
       "    <tr>\n",
       "      <th>25%</th>\n",
       "      <td>54.844633</td>\n",
       "    </tr>\n",
       "    <tr>\n",
       "      <th>50%</th>\n",
       "      <td>55.880184</td>\n",
       "    </tr>\n",
       "    <tr>\n",
       "      <th>75%</th>\n",
       "      <td>57.076923</td>\n",
       "    </tr>\n",
       "    <tr>\n",
       "      <th>max</th>\n",
       "      <td>67.400000</td>\n",
       "    </tr>\n",
       "  </tbody>\n",
       "</table>\n",
       "</div>"
      ],
      "text/plain": [
       "          avg_mag\n",
       "count  105.000000\n",
       "mean    55.953798\n",
       "std      2.656428\n",
       "min     48.666667\n",
       "25%     54.844633\n",
       "50%     55.880184\n",
       "75%     57.076923\n",
       "max     67.400000"
      ]
     },
     "execution_count": 52,
     "metadata": {},
     "output_type": "execute_result"
    }
   ],
   "source": [
    "ts_wind.describe()"
   ]
  },
  {
   "cell_type": "markdown",
   "id": "36da29a4-9dbc-4bf4-a68f-530c53557698",
   "metadata": {},
   "source": [
    "The RMSE of 2.16 did not exceed the standard deviation of 2.66. This model's forecasts are reliable by these evaluation metric's standards."
   ]
  }
 ],
 "metadata": {
  "kernelspec": {
   "display_name": "Python 3 (ipykernel)",
   "language": "python",
   "name": "python3"
  },
  "language_info": {
   "codemirror_mode": {
    "name": "ipython",
    "version": 3
   },
   "file_extension": ".py",
   "mimetype": "text/x-python",
   "name": "python",
   "nbconvert_exporter": "python",
   "pygments_lexer": "ipython3",
   "version": "3.9.7"
  }
 },
 "nbformat": 4,
 "nbformat_minor": 5
}
